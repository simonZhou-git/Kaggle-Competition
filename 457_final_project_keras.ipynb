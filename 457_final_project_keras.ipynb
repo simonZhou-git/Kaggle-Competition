{
  "nbformat": 4,
  "nbformat_minor": 0,
  "metadata": {
    "colab": {
      "name": "457_final_project_keras.ipynb",
      "provenance": [],
      "collapsed_sections": []
    },
    "kernelspec": {
      "name": "python3",
      "display_name": "Python 3"
    },
    "accelerator": "GPU"
  },
  "cells": [
    {
      "cell_type": "code",
      "metadata": {
        "id": "Eofep-E3XLb7",
        "colab_type": "code",
        "colab": {}
      },
      "source": [
        "# This file is for training neural networks using keras from tensorflow backend in Python. Google Colab allows me to use GPU insteading of CPU, which can significantly save lots of training time.\n",
        "import os\n",
        "import pandas as pd\n",
        "import numpy as np\n",
        "from sklearn.feature_extraction.text import TfidfVectorizer\n",
        "from sklearn.preprocessing import LabelEncoder\n",
        "import matplotlib.pyplot as plt\n",
        "from tensorflow import keras\n",
        "from sklearn.model_selection import KFold, cross_validate, train_test_split\n",
        "import pandas as pd\n",
        "import matplotlib.pyplot as plt\n",
        "import json\n",
        "import numpy as np\n",
        "%matplotlib inline"
      ],
      "execution_count": 0,
      "outputs": []
    },
    {
      "cell_type": "code",
      "metadata": {
        "id": "1KEOzYRGXhiZ",
        "colab_type": "code",
        "colab": {
          "base_uri": "https://localhost:8080/",
          "height": 35
        },
        "outputId": "5dbaecb9-3660-478c-d5c5-b515649c6255"
      },
      "source": [
        "os.getcwd()"
      ],
      "execution_count": 2,
      "outputs": [
        {
          "output_type": "execute_result",
          "data": {
            "text/plain": [
              "'/content'"
            ]
          },
          "metadata": {
            "tags": []
          },
          "execution_count": 2
        }
      ]
    },
    {
      "cell_type": "code",
      "metadata": {
        "id": "m9wYzM7bXkvJ",
        "colab_type": "code",
        "colab": {}
      },
      "source": [
        "train_cleaned = pd.read_csv(\"train_data_cleaned.csv\") # read file, clean file\n",
        "test_cleaned = pd.read_csv(\"test_data_cleaned.csv\")\n",
        "train_cleaned = train_cleaned.drop(columns = [\"Unnamed: 0\", \"ingredients\", \"total_ingre\"], axis = 1)\n",
        "test_cleaned = test_cleaned.drop(columns = [\"Unnamed: 0\", \"ingredients\"], axis = 1)"
      ],
      "execution_count": 0,
      "outputs": []
    },
    {
      "cell_type": "code",
      "metadata": {
        "id": "WKPQbLDoYXcu",
        "colab_type": "code",
        "colab": {
          "base_uri": "https://localhost:8080/",
          "height": 203
        },
        "outputId": "07d50741-d98e-4e49-d8ac-12d6e1660033"
      },
      "source": [
        "train_cleaned.head()"
      ],
      "execution_count": 5,
      "outputs": [
        {
          "output_type": "execute_result",
          "data": {
            "text/html": [
              "<div>\n",
              "<style scoped>\n",
              "    .dataframe tbody tr th:only-of-type {\n",
              "        vertical-align: middle;\n",
              "    }\n",
              "\n",
              "    .dataframe tbody tr th {\n",
              "        vertical-align: top;\n",
              "    }\n",
              "\n",
              "    .dataframe thead th {\n",
              "        text-align: right;\n",
              "    }\n",
              "</style>\n",
              "<table border=\"1\" class=\"dataframe\">\n",
              "  <thead>\n",
              "    <tr style=\"text-align: right;\">\n",
              "      <th></th>\n",
              "      <th>cuisine</th>\n",
              "      <th>id</th>\n",
              "      <th>features</th>\n",
              "    </tr>\n",
              "  </thead>\n",
              "  <tbody>\n",
              "    <tr>\n",
              "      <th>0</th>\n",
              "      <td>greek</td>\n",
              "      <td>10259</td>\n",
              "      <td>romaine lettuce black olive grape tomato garli...</td>\n",
              "    </tr>\n",
              "    <tr>\n",
              "      <th>1</th>\n",
              "      <td>southern_us</td>\n",
              "      <td>25693</td>\n",
              "      <td>plain flour ground pepper salt tomato ground b...</td>\n",
              "    </tr>\n",
              "    <tr>\n",
              "      <th>2</th>\n",
              "      <td>filipino</td>\n",
              "      <td>20130</td>\n",
              "      <td>egg pepper salt mayonaise cooking oil green ch...</td>\n",
              "    </tr>\n",
              "    <tr>\n",
              "      <th>3</th>\n",
              "      <td>indian</td>\n",
              "      <td>22213</td>\n",
              "      <td>water vegetable oil wheat salt</td>\n",
              "    </tr>\n",
              "    <tr>\n",
              "      <th>4</th>\n",
              "      <td>indian</td>\n",
              "      <td>13162</td>\n",
              "      <td>black pepper shallot cornflour cayenne pepper ...</td>\n",
              "    </tr>\n",
              "  </tbody>\n",
              "</table>\n",
              "</div>"
            ],
            "text/plain": [
              "       cuisine     id                                           features\n",
              "0        greek  10259  romaine lettuce black olive grape tomato garli...\n",
              "1  southern_us  25693  plain flour ground pepper salt tomato ground b...\n",
              "2     filipino  20130  egg pepper salt mayonaise cooking oil green ch...\n",
              "3       indian  22213                     water vegetable oil wheat salt\n",
              "4       indian  13162  black pepper shallot cornflour cayenne pepper ..."
            ]
          },
          "metadata": {
            "tags": []
          },
          "execution_count": 5
        }
      ]
    },
    {
      "cell_type": "code",
      "metadata": {
        "id": "82Z4v90TYZYh",
        "colab_type": "code",
        "colab": {
          "base_uri": "https://localhost:8080/",
          "height": 203
        },
        "outputId": "ef15f744-5547-4884-dc83-8aa833249690"
      },
      "source": [
        "test_cleaned.head()"
      ],
      "execution_count": 6,
      "outputs": [
        {
          "output_type": "execute_result",
          "data": {
            "text/html": [
              "<div>\n",
              "<style scoped>\n",
              "    .dataframe tbody tr th:only-of-type {\n",
              "        vertical-align: middle;\n",
              "    }\n",
              "\n",
              "    .dataframe tbody tr th {\n",
              "        vertical-align: top;\n",
              "    }\n",
              "\n",
              "    .dataframe thead th {\n",
              "        text-align: right;\n",
              "    }\n",
              "</style>\n",
              "<table border=\"1\" class=\"dataframe\">\n",
              "  <thead>\n",
              "    <tr style=\"text-align: right;\">\n",
              "      <th></th>\n",
              "      <th>id</th>\n",
              "      <th>features</th>\n",
              "    </tr>\n",
              "  </thead>\n",
              "  <tbody>\n",
              "    <tr>\n",
              "      <th>0</th>\n",
              "      <td>18009</td>\n",
              "      <td>baking powder egg all purpose flour raisin mil...</td>\n",
              "    </tr>\n",
              "    <tr>\n",
              "      <th>1</th>\n",
              "      <td>28583</td>\n",
              "      <td>sugar egg yolk corn starch cream of tartar ban...</td>\n",
              "    </tr>\n",
              "    <tr>\n",
              "      <th>2</th>\n",
              "      <td>41580</td>\n",
              "      <td>sausage link fennel bulb frond olive oil cuban...</td>\n",
              "    </tr>\n",
              "    <tr>\n",
              "      <th>3</th>\n",
              "      <td>29752</td>\n",
              "      <td>meat cut file powder smoked sausage okra shrim...</td>\n",
              "    </tr>\n",
              "    <tr>\n",
              "      <th>4</th>\n",
              "      <td>35687</td>\n",
              "      <td>ground black pepper salt sausage casing leek p...</td>\n",
              "    </tr>\n",
              "  </tbody>\n",
              "</table>\n",
              "</div>"
            ],
            "text/plain": [
              "      id                                           features\n",
              "0  18009  baking powder egg all purpose flour raisin mil...\n",
              "1  28583  sugar egg yolk corn starch cream of tartar ban...\n",
              "2  41580  sausage link fennel bulb frond olive oil cuban...\n",
              "3  29752  meat cut file powder smoked sausage okra shrim...\n",
              "4  35687  ground black pepper salt sausage casing leek p..."
            ]
          },
          "metadata": {
            "tags": []
          },
          "execution_count": 6
        }
      ]
    },
    {
      "cell_type": "code",
      "metadata": {
        "id": "rax7Za7JYb8S",
        "colab_type": "code",
        "colab": {}
      },
      "source": [
        "vectorized = TfidfVectorizer(stop_words = \"english\",binary = True) # perform TF-IDF transformation, no need to use SVD for dimension reduction since I use GPU.\n",
        "train_vect = vectorized.fit_transform(train_cleaned[\"features\"].values)\n",
        "train_vect.sort_indices()\n",
        "test_vect = vectorized.transform(test_cleaned[\"features\"].values)\n",
        "test_vect.sort_indices()\n",
        "label_encoder = LabelEncoder()\n",
        "train_label = label_encoder.fit_transform(train_cleaned[\"cuisine\"].values)"
      ],
      "execution_count": 0,
      "outputs": []
    },
    {
      "cell_type": "code",
      "metadata": {
        "id": "bi3KbMlOYmHM",
        "colab_type": "code",
        "colab": {
          "base_uri": "https://localhost:8080/",
          "height": 35
        },
        "outputId": "396105f9-bd82-4f0a-95c5-403c60afd036"
      },
      "source": [
        "train_vect.shape, test_vect.shape, train_label.shape"
      ],
      "execution_count": 30,
      "outputs": [
        {
          "output_type": "execute_result",
          "data": {
            "text/plain": [
              "((39751, 2735), (9944, 2735), (39751,))"
            ]
          },
          "metadata": {
            "tags": []
          },
          "execution_count": 30
        }
      ]
    },
    {
      "cell_type": "code",
      "metadata": {
        "id": "7Kw-TKimYrNJ",
        "colab_type": "code",
        "colab": {}
      },
      "source": [
        "label_nn = keras.utils.to_categorical(train_label) # change labels to categorical for keras"
      ],
      "execution_count": 0,
      "outputs": []
    },
    {
      "cell_type": "code",
      "metadata": {
        "id": "0ltAvK_RZHlg",
        "colab_type": "code",
        "colab": {
          "base_uri": "https://localhost:8080/",
          "height": 726
        },
        "outputId": "e8759f08-fbfd-4c4e-ccfe-9d9df7ab9e6a"
      },
      "source": [
        "label_nn[:20]"
      ],
      "execution_count": 10,
      "outputs": [
        {
          "output_type": "execute_result",
          "data": {
            "text/plain": [
              "array([[0., 0., 0., 0., 0., 0., 1., 0., 0., 0., 0., 0., 0., 0., 0., 0.,\n",
              "        0., 0., 0., 0.],\n",
              "       [0., 0., 0., 0., 0., 0., 0., 0., 0., 0., 0., 0., 0., 0., 0., 0.,\n",
              "        1., 0., 0., 0.],\n",
              "       [0., 0., 0., 0., 1., 0., 0., 0., 0., 0., 0., 0., 0., 0., 0., 0.,\n",
              "        0., 0., 0., 0.],\n",
              "       [0., 0., 0., 0., 0., 0., 0., 1., 0., 0., 0., 0., 0., 0., 0., 0.,\n",
              "        0., 0., 0., 0.],\n",
              "       [0., 0., 0., 0., 0., 0., 0., 1., 0., 0., 0., 0., 0., 0., 0., 0.,\n",
              "        0., 0., 0., 0.],\n",
              "       [0., 0., 0., 0., 0., 0., 0., 0., 0., 0., 1., 0., 0., 0., 0., 0.,\n",
              "        0., 0., 0., 0.],\n",
              "       [0., 0., 0., 0., 0., 0., 0., 0., 0., 0., 0., 0., 0., 0., 0., 0.,\n",
              "        0., 1., 0., 0.],\n",
              "       [0., 0., 0., 0., 0., 0., 0., 0., 0., 1., 0., 0., 0., 0., 0., 0.,\n",
              "        0., 0., 0., 0.],\n",
              "       [0., 0., 0., 0., 0., 0., 0., 0., 0., 0., 0., 0., 0., 1., 0., 0.,\n",
              "        0., 0., 0., 0.],\n",
              "       [0., 0., 0., 0., 0., 0., 0., 0., 0., 1., 0., 0., 0., 0., 0., 0.,\n",
              "        0., 0., 0., 0.],\n",
              "       [0., 0., 0., 0., 0., 0., 0., 0., 0., 1., 0., 0., 0., 0., 0., 0.,\n",
              "        0., 0., 0., 0.],\n",
              "       [0., 0., 0., 1., 0., 0., 0., 0., 0., 0., 0., 0., 0., 0., 0., 0.,\n",
              "        0., 0., 0., 0.],\n",
              "       [0., 0., 0., 0., 0., 0., 0., 0., 0., 1., 0., 0., 0., 0., 0., 0.,\n",
              "        0., 0., 0., 0.],\n",
              "       [0., 0., 0., 0., 0., 0., 0., 0., 0., 0., 0., 0., 0., 1., 0., 0.,\n",
              "        0., 0., 0., 0.],\n",
              "       [0., 0., 0., 0., 0., 0., 0., 0., 0., 1., 0., 0., 0., 0., 0., 0.,\n",
              "        0., 0., 0., 0.],\n",
              "       [0., 0., 0., 0., 0., 0., 0., 1., 0., 0., 0., 0., 0., 0., 0., 0.,\n",
              "        0., 0., 0., 0.],\n",
              "       [0., 1., 0., 0., 0., 0., 0., 0., 0., 0., 0., 0., 0., 0., 0., 0.,\n",
              "        0., 0., 0., 0.],\n",
              "       [0., 0., 0., 0., 0., 0., 0., 0., 0., 1., 0., 0., 0., 0., 0., 0.,\n",
              "        0., 0., 0., 0.],\n",
              "       [0., 0., 0., 0., 0., 0., 0., 0., 0., 0., 0., 0., 0., 0., 0., 0.,\n",
              "        0., 0., 1., 0.],\n",
              "       [0., 0., 0., 0., 0., 0., 0., 0., 0., 0., 0., 0., 0., 0., 0., 0.,\n",
              "        0., 0., 0., 1.]], dtype=float32)"
            ]
          },
          "metadata": {
            "tags": []
          },
          "execution_count": 10
        }
      ]
    },
    {
      "cell_type": "code",
      "metadata": {
        "id": "llbLUGuQarUW",
        "colab_type": "code",
        "colab": {}
      },
      "source": [
        "X_train, X_valid, y_train, y_valid = train_test_split(train_vect, label_nn, test_size = 0.20, random_state = 0) # split training dataset to training and validating datestes  "
      ],
      "execution_count": 0,
      "outputs": []
    },
    {
      "cell_type": "code",
      "metadata": {
        "id": "hEd5RnW3ZKuE",
        "colab_type": "code",
        "colab": {}
      },
      "source": [
        "model = keras.Sequential()\n",
        "model.add(keras.layers.Dense(2000, kernel_initializer = keras.initializers.he_normal(seed=0), activation='relu', input_dim=2735)) # input dimension is the number of columns that after TF-IDF transformation give me\n",
        "model.add(keras.layers.Dropout(0.80))  # set dropout to 0.80, which means drop out 80% of data for every epoch, prevent overfitting \n",
        "model.add(keras.layers.Dense(1024, kernel_initializer = keras.initializers.he_normal(seed=0), activation='relu')) \n",
        "model.add(keras.layers.Dropout(0.50)) #0.5\n",
        "model.add(keras.layers.Dense(256, kernel_initializer = keras.initializers.he_normal(seed=1), activation='relu'))\n",
        "model.add(keras.layers.Dropout(0.60))#0.6\n",
        "#model.add(keras.layers.Dense(40, kernel_initializer=keras.initializers.he_normal(seed=2), activation='relu'))\n",
        "#model.add(keras.layers.Dropout(0.20))\n",
        "model.add(keras.layers.Dense(20, kernel_initializer = keras.initializers.RandomNormal(mean=0.0, stddev=0.05, seed=3), activation='softmax'))\n",
        "model.compile(optimizer='adam', loss='categorical_crossentropy', metrics=['accuracy'])"
      ],
      "execution_count": 0,
      "outputs": []
    },
    {
      "cell_type": "code",
      "metadata": {
        "id": "RRjjY8dQaEAh",
        "colab_type": "code",
        "colab": {
          "base_uri": "https://localhost:8080/",
          "height": 566
        },
        "outputId": "bd012674-d9a7-4d20-a177-03c976ea986e"
      },
      "source": [
        "keras_fit = model.fit(X_train, y_train, epochs=15, batch_size=512, validation_data=(X_valid, y_valid)) # epoch = 20\n",
        "print(\"Finished\")"
      ],
      "execution_count": 115,
      "outputs": [
        {
          "output_type": "stream",
          "text": [
            "Epoch 1/15\n",
            "63/63 [==============================] - 1s 11ms/step - loss: 2.0796 - accuracy: 0.3939 - val_loss: 1.3445 - val_accuracy: 0.5819\n",
            "Epoch 2/15\n",
            "63/63 [==============================] - 1s 8ms/step - loss: 1.2197 - accuracy: 0.6350 - val_loss: 0.9586 - val_accuracy: 0.7039\n",
            "Epoch 3/15\n",
            "63/63 [==============================] - 1s 8ms/step - loss: 0.9777 - accuracy: 0.7032 - val_loss: 0.8626 - val_accuracy: 0.7346\n",
            "Epoch 4/15\n",
            "63/63 [==============================] - 1s 8ms/step - loss: 0.8533 - accuracy: 0.7445 - val_loss: 0.7869 - val_accuracy: 0.7662\n",
            "Epoch 5/15\n",
            "63/63 [==============================] - 1s 8ms/step - loss: 0.7591 - accuracy: 0.7751 - val_loss: 0.7539 - val_accuracy: 0.7742\n",
            "Epoch 6/15\n",
            "63/63 [==============================] - 1s 9ms/step - loss: 0.6900 - accuracy: 0.7959 - val_loss: 0.7381 - val_accuracy: 0.7861\n",
            "Epoch 7/15\n",
            "63/63 [==============================] - 1s 8ms/step - loss: 0.6366 - accuracy: 0.8113 - val_loss: 0.7220 - val_accuracy: 0.7891\n",
            "Epoch 8/15\n",
            "63/63 [==============================] - 1s 9ms/step - loss: 0.5906 - accuracy: 0.8272 - val_loss: 0.7270 - val_accuracy: 0.7927\n",
            "Epoch 9/15\n",
            "63/63 [==============================] - 1s 9ms/step - loss: 0.5557 - accuracy: 0.8345 - val_loss: 0.7242 - val_accuracy: 0.7945\n",
            "Epoch 10/15\n",
            "63/63 [==============================] - 1s 8ms/step - loss: 0.5095 - accuracy: 0.8471 - val_loss: 0.7347 - val_accuracy: 0.7929\n",
            "Epoch 11/15\n",
            "63/63 [==============================] - 1s 8ms/step - loss: 0.4801 - accuracy: 0.8581 - val_loss: 0.7297 - val_accuracy: 0.7983\n",
            "Epoch 12/15\n",
            "63/63 [==============================] - 1s 9ms/step - loss: 0.4541 - accuracy: 0.8623 - val_loss: 0.7235 - val_accuracy: 0.7979\n",
            "Epoch 13/15\n",
            "63/63 [==============================] - 1s 8ms/step - loss: 0.4173 - accuracy: 0.8724 - val_loss: 0.7417 - val_accuracy: 0.7985\n",
            "Epoch 14/15\n",
            "63/63 [==============================] - 1s 9ms/step - loss: 0.3988 - accuracy: 0.8793 - val_loss: 0.7382 - val_accuracy: 0.8009\n",
            "Epoch 15/15\n",
            "63/63 [==============================] - 1s 8ms/step - loss: 0.3775 - accuracy: 0.8841 - val_loss: 0.7573 - val_accuracy: 0.8025\n",
            "Finished\n"
          ],
          "name": "stdout"
        }
      ]
    },
    {
      "cell_type": "code",
      "metadata": {
        "id": "b2TBYqrBljTJ",
        "colab_type": "code",
        "colab": {
          "base_uri": "https://localhost:8080/",
          "height": 295
        },
        "outputId": "3f57832b-4386-409f-fcdf-8688e796a061"
      },
      "source": [
        "plt.plot(keras_fit.history['accuracy'])\n",
        "plt.plot(keras_fit.history['val_accuracy'])\n",
        "plt.title('model accuracy')\n",
        "plt.ylabel('accuracy')\n",
        "plt.xlabel('epoch')\n",
        "plt.legend(['train', 'test'], loc='upper right')\n",
        "plt.show()"
      ],
      "execution_count": 117,
      "outputs": [
        {
          "output_type": "display_data",
          "data": {
            "image/png": "[encoded data removed]",
            "text/plain": [
              "<Figure size 432x288 with 1 Axes>"
            ]
          },
          "metadata": {
            "tags": [],
            "needs_background": "light"
          }
        }
      ]
    },
    {
      "cell_type": "code",
      "metadata": {
        "id": "cb-aI6uFd9Kw",
        "colab_type": "code",
        "colab": {
          "base_uri": "https://localhost:8080/",
          "height": 1000
        },
        "outputId": "01df9ddb-54f8-40d1-8833-8e513fd21c7a"
      },
      "source": [
        "keras_fit = model.fit(X_train, y_train, epochs=25, batch_size=512, validation_data=(X_valid, y_valid)) # epoch = 20 # epoch 25 is enough, 30 epoches will result in slightly overfitting\n",
        "print(\"Finished\")"
      ],
      "execution_count": 123,
      "outputs": [
        {
          "output_type": "stream",
          "text": [
            "Epoch 1/30\n",
            "63/63 [==============================] - 1s 9ms/step - loss: 0.1446 - accuracy: 0.9556 - val_loss: 0.9831 - val_accuracy: 0.8029\n",
            "Epoch 2/30\n",
            "63/63 [==============================] - 1s 8ms/step - loss: 0.1394 - accuracy: 0.9561 - val_loss: 0.9965 - val_accuracy: 0.8043\n",
            "Epoch 3/30\n",
            "63/63 [==============================] - 1s 8ms/step - loss: 0.1344 - accuracy: 0.9574 - val_loss: 1.0242 - val_accuracy: 0.8015\n",
            "Epoch 4/30\n",
            "63/63 [==============================] - 1s 8ms/step - loss: 0.1328 - accuracy: 0.9570 - val_loss: 1.0171 - val_accuracy: 0.8028\n",
            "Epoch 5/30\n",
            "63/63 [==============================] - 1s 8ms/step - loss: 0.1264 - accuracy: 0.9604 - val_loss: 1.0394 - val_accuracy: 0.8020\n",
            "Epoch 6/30\n",
            "63/63 [==============================] - 1s 8ms/step - loss: 0.1259 - accuracy: 0.9608 - val_loss: 1.0521 - val_accuracy: 0.8019\n",
            "Epoch 7/30\n",
            "63/63 [==============================] - 1s 8ms/step - loss: 0.1242 - accuracy: 0.9616 - val_loss: 1.0537 - val_accuracy: 0.8039\n",
            "Epoch 8/30\n",
            "63/63 [==============================] - 1s 8ms/step - loss: 0.1227 - accuracy: 0.9615 - val_loss: 1.0520 - val_accuracy: 0.8037\n",
            "Epoch 9/30\n",
            "63/63 [==============================] - 1s 8ms/step - loss: 0.1219 - accuracy: 0.9621 - val_loss: 1.0444 - val_accuracy: 0.8035\n",
            "Epoch 10/30\n",
            "63/63 [==============================] - 1s 8ms/step - loss: 0.1142 - accuracy: 0.9637 - val_loss: 1.0531 - val_accuracy: 0.8037\n",
            "Epoch 11/30\n",
            "63/63 [==============================] - 1s 8ms/step - loss: 0.1157 - accuracy: 0.9628 - val_loss: 1.0869 - val_accuracy: 0.8034\n",
            "Epoch 12/30\n",
            "63/63 [==============================] - 1s 8ms/step - loss: 0.1144 - accuracy: 0.9642 - val_loss: 1.0638 - val_accuracy: 0.8010\n",
            "Epoch 13/30\n",
            "63/63 [==============================] - 1s 8ms/step - loss: 0.1102 - accuracy: 0.9648 - val_loss: 1.0843 - val_accuracy: 0.8018\n",
            "Epoch 14/30\n",
            "63/63 [==============================] - 1s 8ms/step - loss: 0.1071 - accuracy: 0.9665 - val_loss: 1.0904 - val_accuracy: 0.8042\n",
            "Epoch 15/30\n",
            "63/63 [==============================] - 1s 8ms/step - loss: 0.1074 - accuracy: 0.9664 - val_loss: 1.0863 - val_accuracy: 0.8034\n",
            "Epoch 16/30\n",
            "63/63 [==============================] - 1s 8ms/step - loss: 0.1048 - accuracy: 0.9663 - val_loss: 1.0849 - val_accuracy: 0.8010\n",
            "Epoch 17/30\n",
            "63/63 [==============================] - 1s 8ms/step - loss: 0.1014 - accuracy: 0.9686 - val_loss: 1.1183 - val_accuracy: 0.8029\n",
            "Epoch 18/30\n",
            "63/63 [==============================] - 1s 8ms/step - loss: 0.0993 - accuracy: 0.9689 - val_loss: 1.1211 - val_accuracy: 0.8043\n",
            "Epoch 19/30\n",
            "63/63 [==============================] - 1s 8ms/step - loss: 0.1030 - accuracy: 0.9664 - val_loss: 1.1277 - val_accuracy: 0.8053\n",
            "Epoch 20/30\n",
            "63/63 [==============================] - 1s 8ms/step - loss: 0.1013 - accuracy: 0.9665 - val_loss: 1.1084 - val_accuracy: 0.8027\n",
            "Epoch 21/30\n",
            "63/63 [==============================] - 1s 8ms/step - loss: 0.0976 - accuracy: 0.9686 - val_loss: 1.1395 - val_accuracy: 0.8034\n",
            "Epoch 22/30\n",
            "63/63 [==============================] - 1s 8ms/step - loss: 0.0929 - accuracy: 0.9697 - val_loss: 1.1443 - val_accuracy: 0.8027\n",
            "Epoch 23/30\n",
            "63/63 [==============================] - 1s 8ms/step - loss: 0.0945 - accuracy: 0.9696 - val_loss: 1.1535 - val_accuracy: 0.8028\n",
            "Epoch 24/30\n",
            "63/63 [==============================] - 1s 8ms/step - loss: 0.0957 - accuracy: 0.9697 - val_loss: 1.1222 - val_accuracy: 0.8051\n",
            "Epoch 25/30\n",
            "63/63 [==============================] - 1s 8ms/step - loss: 0.0907 - accuracy: 0.9708 - val_loss: 1.1631 - val_accuracy: 0.8038\n",
            "Epoch 26/30\n",
            "63/63 [==============================] - 1s 8ms/step - loss: 0.0943 - accuracy: 0.9704 - val_loss: 1.1602 - val_accuracy: 0.8040\n",
            "Epoch 27/30\n",
            "63/63 [==============================] - 1s 8ms/step - loss: 0.0912 - accuracy: 0.9711 - val_loss: 1.1459 - val_accuracy: 0.8051\n",
            "Epoch 28/30\n",
            "63/63 [==============================] - 1s 8ms/step - loss: 0.0904 - accuracy: 0.9722 - val_loss: 1.1582 - val_accuracy: 0.8019\n",
            "Epoch 29/30\n",
            "63/63 [==============================] - 1s 8ms/step - loss: 0.0861 - accuracy: 0.9719 - val_loss: 1.1798 - val_accuracy: 0.8043\n",
            "Epoch 30/30\n",
            "63/63 [==============================] - 1s 8ms/step - loss: 0.0885 - accuracy: 0.9723 - val_loss: 1.1886 - val_accuracy: 0.8029\n",
            "Finished\n"
          ],
          "name": "stdout"
        }
      ]
    },
    {
      "cell_type": "code",
      "metadata": {
        "id": "AgWfGssfzxNg",
        "colab_type": "code",
        "colab": {
          "base_uri": "https://localhost:8080/",
          "height": 35
        },
        "outputId": "ab1a0218-65de-4b29-a19a-df9737e4de8d"
      },
      "source": [
        "print(keras_fit.history.keys())"
      ],
      "execution_count": 126,
      "outputs": [
        {
          "output_type": "stream",
          "text": [
            "dict_keys(['loss', 'accuracy', 'val_loss', 'val_accuracy'])\n"
          ],
          "name": "stdout"
        }
      ]
    },
    {
      "cell_type": "code",
      "metadata": {
        "id": "lnHuAL_6xVxJ",
        "colab_type": "code",
        "colab": {
          "base_uri": "https://localhost:8080/",
          "height": 88
        },
        "outputId": "04941c94-aba9-4671-eb10-97db668d0c3b"
      },
      "source": [
        "y_pred = model.predict(test_vect)\n",
        "predictions = label_encoder.inverse_transform([np.argmax(pred) for pred in y_pred]) # change label from integer array back to string\n",
        "predictions[:20]"
      ],
      "execution_count": 124,
      "outputs": [
        {
          "output_type": "execute_result",
          "data": {
            "text/plain": [
              "array(['irish', 'southern_us', 'italian', 'cajun_creole', 'italian',\n",
              "       'southern_us', 'french', 'chinese', 'mexican', 'british',\n",
              "       'italian', 'greek', 'indian', 'italian', 'british', 'french',\n",
              "       'mexican', 'french', 'mexican', 'southern_us'], dtype=object)"
            ]
          },
          "metadata": {
            "tags": []
          },
          "execution_count": 124
        }
      ]
    },
    {
      "cell_type": "code",
      "metadata": {
        "id": "errwhcgnxpye",
        "colab_type": "code",
        "colab": {}
      },
      "source": [
        "test_id = test_cleaned[\"id\"]\n",
        "sub = pd.DataFrame({'id': test_id, 'cuisine': predictions}, columns=['id', 'cuisine']) # write tp csv\n",
        "sub.to_csv('sub_keras7.csv', index=False)"
      ],
      "execution_count": 0,
      "outputs": []
    },
    {
      "cell_type": "code",
      "metadata": {
        "id": "V-X65_LAxtGr",
        "colab_type": "code",
        "colab": {}
      },
      "source": [
        ""
      ],
      "execution_count": 0,
      "outputs": []
    }
  ]
}